{
 "cells": [
  {
   "cell_type": "markdown",
   "id": "711c68d7-6880-489c-9b52-1c1f453d884a",
   "metadata": {},
   "source": [
    "# **1. Robustness**"
   ]
  },
  {
   "cell_type": "code",
   "execution_count": null,
   "id": "dddadcba-c30c-47be-bdda-a409c83c8021",
   "metadata": {},
   "outputs": [],
   "source": [
    "from transformers import pipeline\n",
    "\n",
    "nlp = pipeline(\"zero-shot-classification\", model=\"typeform/distilbert-base-uncased-mnli\")"
   ]
  },
  {
   "cell_type": "code",
   "execution_count": 34,
   "id": "6c7d3b9b-23e6-44eb-ac99-9308fb9f4f09",
   "metadata": {},
   "outputs": [
    {
     "name": "stderr",
     "output_type": "stream",
     "text": [
      "Using custom data configuration default\n",
      "Reusing dataset ag_news (/Users/dani/.cache/huggingface/datasets/ag_news/default/0.0.0/bc2bcb40336ace1a0374767fc29bb0296cdaf8a6da7298436239c54d79180548)\n"
     ]
    }
   ],
   "source": [
    "from datasets import load_dataset\n",
    "\n",
    "dataset = load_dataset(\"ag_news\", split=\"test[0:500]\")\n",
    "labels = dataset.features[\"label\"].names"
   ]
  },
  {
   "cell_type": "code",
   "execution_count": 22,
   "id": "d4467e43-7910-45cd-a309-e7854c0fd977",
   "metadata": {},
   "outputs": [
    {
     "data": {
      "text/plain": [
       "['World', 'Sports', 'Business', 'Sci/Tech']"
      ]
     },
     "execution_count": 22,
     "metadata": {},
     "output_type": "execute_result"
    }
   ],
   "source": [
    "labels"
   ]
  },
  {
   "cell_type": "code",
   "execution_count": 36,
   "id": "d17891af-efa5-42bc-8636-1be4a3737ab1",
   "metadata": {},
   "outputs": [],
   "source": [
    "def add_predictions(record):\n",
    "    prediction = nlp(record[\"text\"], candidate_labels=labels)\n",
    "    return {\"prediction\": prediction[\"labels\"][0], \"score\": prediction[\"scores\"][0] }"
   ]
  },
  {
   "cell_type": "code",
   "execution_count": 37,
   "id": "666be141-735d-48c5-8255-4a04f22db0da",
   "metadata": {},
   "outputs": [
    {
     "data": {
      "application/vnd.jupyter.widget-view+json": {
       "model_id": "0a5ee748ec5c432ab8d75b80ac0b91b9",
       "version_major": 2,
       "version_minor": 0
      },
      "text/plain": [
       "  0%|          | 0/500 [00:00<?, ?ex/s]"
      ]
     },
     "metadata": {},
     "output_type": "display_data"
    }
   ],
   "source": [
    "dataset = dataset.map(add_predictions)"
   ]
  },
  {
   "cell_type": "code",
   "execution_count": 53,
   "id": "4115dfaa-3c34-4ae0-b9c6-eae50cb62774",
   "metadata": {},
   "outputs": [],
   "source": [
    "import rubrix as rb\n",
    "\n",
    "records = [\n",
    "    rb.TextClassificationRecord(\n",
    "        inputs=record[\"text\"],\n",
    "        metadata={\"len\": len(record[\"text\"])},\n",
    "        annotation=labels[record[\"label\"]],\n",
    "        prediction=[(record[\"prediction\"], record[\"score\"])]\n",
    "    )\n",
    "    for record in dataset\n",
    "]"
   ]
  },
  {
   "cell_type": "code",
   "execution_count": 54,
   "id": "f7e82355-48be-4c73-a7a0-206b384ed69c",
   "metadata": {},
   "outputs": [
    {
     "data": {
      "application/vnd.jupyter.widget-view+json": {
       "model_id": "37070d3393304fbe8ee45ddd784add1a",
       "version_major": 2,
       "version_minor": 0
      },
      "text/plain": [
       "  0%|          | 0/500 [00:00<?, ?it/s]"
      ]
     },
     "metadata": {},
     "output_type": "display_data"
    },
    {
     "name": "stdout",
     "output_type": "stream",
     "text": [
      "500 records logged to http://localhost:6900/zeroshot_agnews\n"
     ]
    },
    {
     "data": {
      "text/plain": [
       "BulkResponse(dataset='zeroshot_agnews', processed=500, failed=0)"
      ]
     },
     "execution_count": 54,
     "metadata": {},
     "output_type": "execute_result"
    }
   ],
   "source": [
    "rb.delete(\"zeroshot_agnews\")\n",
    "rb.log(records, name=\"zeroshot_agnews\")"
   ]
  },
  {
   "cell_type": "markdown",
   "id": "192deba3-1a28-43d3-8553-78798b00e8ba",
   "metadata": {},
   "source": [
    "## Metrics and data slices"
   ]
  },
  {
   "cell_type": "code",
   "execution_count": 1,
   "id": "c8cc4833-4df7-41c0-96e3-32bec157e777",
   "metadata": {},
   "outputs": [
    {
     "data": {
      "text/plain": [
       "{'micro': 0.598,\n",
       " 'macro': 0.5857564446483439,\n",
       " 'per_label': {'Sports': 0.7959183673469388,\n",
       "  'Sci/Tech': 0.5176470588235293,\n",
       "  'World': 0.4669603524229075,\n",
       "  'Business': 0.5624999999999999}}"
      ]
     },
     "execution_count": 1,
     "metadata": {},
     "output_type": "execute_result"
    }
   ],
   "source": [
    "from rubrix.metrics.text_classification import f1\n",
    "\n",
    "f1(name=\"zeroshot_agnews\").data"
   ]
  },
  {
   "cell_type": "code",
   "execution_count": 64,
   "id": "27772036-a7c8-4280-b58a-9ed4b114e622",
   "metadata": {},
   "outputs": [
    {
     "data": {
      "text/plain": [
       "MetricSummary(data={'micro': 0.5867768595041323, 'macro': 0.5701230451694848, 'per_label': {'Sports': 0.736842105263158, 'Sci/Tech': 0.5538461538461538, 'World': 0.5098039215686274, 'Business': 0.48000000000000004}})"
      ]
     },
     "execution_count": 64,
     "metadata": {},
     "output_type": "execute_result"
    }
   ],
   "source": [
    "f1(name=\"zeroshot_agnews\", query=\"metadata.len:[100 TO 200]\")"
   ]
  },
  {
   "cell_type": "code",
   "execution_count": 77,
   "id": "37e1dce8-40fb-424f-992e-ccda08c4a41f",
   "metadata": {},
   "outputs": [
    {
     "data": {
      "text/plain": [
       "MetricSummary(data={'micro': 0.8051948051948051, 'macro': 0.7082466825113884, 'per_label': {'Sports': 0.9318181818181819, 'Sci/Tech': 0.7407407407407407, 'World': 0.45454545454545453, 'Business': 0.7058823529411765}})"
      ]
     },
     "execution_count": 77,
     "metadata": {},
     "output_type": "execute_result"
    }
   ],
   "source": [
    "f1(name=\"zeroshot_agnews\", query=\"score:>=.5\")"
   ]
  },
  {
   "cell_type": "code",
   "execution_count": 74,
   "id": "b85b652e-cb34-4a2a-854c-43460bd97032",
   "metadata": {},
   "outputs": [
    {
     "data": {
      "text/plain": [
       "MetricSummary(data={'micro': 0.43478260869565216, 'macro': 0.4113636363636364, 'per_label': {'Sports': 0.5, 'Sci/Tech': 0.2, 'World': 0.5454545454545454, 'Business': 0.4000000000000001}})"
      ]
     },
     "execution_count": 74,
     "metadata": {},
     "output_type": "execute_result"
    }
   ],
   "source": [
    "f1(name=\"zeroshot_agnews\", query=\"president\")"
   ]
  },
  {
   "cell_type": "markdown",
   "id": "976cb48f-1d67-4185-9123-ca419a09d0fc",
   "metadata": {},
   "source": [
    "# **2. Weak supervision**\n",
    "\n",
    "https://rubrix.readthedocs.io/en/master/guides/weak-supervision.html"
   ]
  },
  {
   "cell_type": "code",
   "execution_count": 152,
   "id": "a1b942af-a005-4f69-a3a7-294f06f8b033",
   "metadata": {},
   "outputs": [
    {
     "name": "stderr",
     "output_type": "stream",
     "text": [
      "WARNING:datasets.builder:Using custom data configuration default\n",
      "WARNING:datasets.builder:Reusing dataset ag_news (/Users/dani/.cache/huggingface/datasets/ag_news/default/0.0.0/bc2bcb40336ace1a0374767fc29bb0296cdaf8a6da7298436239c54d79180548)\n"
     ]
    }
   ],
   "source": [
    "dataset = load_dataset(\"ag_news\", split=\"test[500:2500]\")\n",
    "labels = dataset.features[\"label\"].names"
   ]
  },
  {
   "cell_type": "code",
   "execution_count": 153,
   "id": "b0719df3-6b15-4b32-96ef-5867712f278d",
   "metadata": {},
   "outputs": [],
   "source": [
    "records = [\n",
    "    rb.TextClassificationRecord(\n",
    "        inputs=record[\"text\"],\n",
    "        metadata={\"len\": len(record[\"text\"])},\n",
    "        #annotation=labels[record[\"label\"]],\n",
    "        #prediction=[(record[\"prediction\"], record[\"score\"])]\n",
    "    )\n",
    "    for record in dataset\n",
    "]"
   ]
  },
  {
   "cell_type": "code",
   "execution_count": 72,
   "id": "af882f01-58d9-4f68-8a3d-f5752d4f22fe",
   "metadata": {},
   "outputs": [
    {
     "data": {
      "application/vnd.jupyter.widget-view+json": {
       "model_id": "581904cf7eea47a8b906078ad9cd23bc",
       "version_major": 2,
       "version_minor": 0
      },
      "text/plain": [
       "  0%|          | 0/2000 [00:00<?, ?it/s]"
      ]
     },
     "metadata": {},
     "output_type": "display_data"
    },
    {
     "name": "stdout",
     "output_type": "stream",
     "text": [
      "2000 records logged to http://localhost:6900/zeroshot_agnews\n"
     ]
    },
    {
     "data": {
      "text/plain": [
       "BulkResponse(dataset='zeroshot_agnews', processed=2000, failed=0)"
      ]
     },
     "execution_count": 72,
     "metadata": {},
     "output_type": "execute_result"
    }
   ],
   "source": [
    "rb.log(records, name=\"zeroshot_agnews\")"
   ]
  },
  {
   "cell_type": "code",
   "execution_count": 154,
   "id": "1e9004ae-64d6-433b-985d-afc31a312878",
   "metadata": {},
   "outputs": [],
   "source": [
    "from rubrix.labeling.text_classification import Rule, WeakLabels"
   ]
  },
  {
   "cell_type": "code",
   "execution_count": 345,
   "id": "fc33d963-328c-4bc8-aa88-4f97673783fc",
   "metadata": {},
   "outputs": [],
   "source": [
    "war = Rule(query=\"war\", label=\"World\")\n",
    "gov = Rule(query=\"gov*\", label=\"World\")\n",
    "football = Rule(query=\"footb*\", label=\"Sports\")\n",
    "sport = Rule(query=\"sport*\", label=\"Sports\")\n",
    "business = Rule(query=\"business\", label=\"Business\")\n",
    "computer = Rule(query=\"comput*\", label=\"Sci/Tech\")\n",
    "sci = Rule(query=\"sci*\", label=\"Sci/Tech\")"
   ]
  },
  {
   "cell_type": "code",
   "execution_count": 346,
   "id": "3efd37ea-3932-4aac-9ea1-865ccf071a59",
   "metadata": {},
   "outputs": [],
   "source": [
    "rules = [\n",
    "    war,\n",
    "    football,\n",
    "    business,\n",
    "    computer,\n",
    "    sci,\n",
    "    sport,\n",
    "    gov\n",
    "]"
   ]
  },
  {
   "cell_type": "code",
   "execution_count": 347,
   "id": "ef53ad3e-4ff7-4750-99cf-4ba0bbe723ed",
   "metadata": {},
   "outputs": [
    {
     "data": {
      "application/vnd.jupyter.widget-view+json": {
       "model_id": "4927745121d145c694e57b48238cc85c",
       "version_major": 2,
       "version_minor": 0
      },
      "text/plain": [
       "Preparing rules:   0%|          | 0/7 [00:00<?, ?it/s]"
      ]
     },
     "metadata": {},
     "output_type": "display_data"
    },
    {
     "data": {
      "application/vnd.jupyter.widget-view+json": {
       "model_id": "4553f474309041de804166277fa077e6",
       "version_major": 2,
       "version_minor": 0
      },
      "text/plain": [
       "Applying rules:   0%|          | 0/2500 [00:00<?, ?it/s]"
      ]
     },
     "metadata": {},
     "output_type": "display_data"
    }
   ],
   "source": [
    "weak_labels = WeakLabels(rules=rules, dataset=\"zeroshot_agnews\")"
   ]
  },
  {
   "cell_type": "code",
   "execution_count": 348,
   "id": "ea3ce203-48f4-452f-b16f-9b6294a78968",
   "metadata": {},
   "outputs": [
    {
     "data": {
      "text/html": [
       "<div>\n",
       "<style scoped>\n",
       "    .dataframe tbody tr th:only-of-type {\n",
       "        vertical-align: middle;\n",
       "    }\n",
       "\n",
       "    .dataframe tbody tr th {\n",
       "        vertical-align: top;\n",
       "    }\n",
       "\n",
       "    .dataframe thead th {\n",
       "        text-align: right;\n",
       "    }\n",
       "</style>\n",
       "<table border=\"1\" class=\"dataframe\">\n",
       "  <thead>\n",
       "    <tr style=\"text-align: right;\">\n",
       "      <th></th>\n",
       "      <th>polarity</th>\n",
       "      <th>coverage</th>\n",
       "      <th>overlaps</th>\n",
       "      <th>conflicts</th>\n",
       "      <th>correct</th>\n",
       "      <th>incorrect</th>\n",
       "      <th>precision</th>\n",
       "    </tr>\n",
       "  </thead>\n",
       "  <tbody>\n",
       "    <tr>\n",
       "      <th>war</th>\n",
       "      <td>{World}</td>\n",
       "      <td>0.0152</td>\n",
       "      <td>0.0008</td>\n",
       "      <td>0.0000</td>\n",
       "      <td>5</td>\n",
       "      <td>2</td>\n",
       "      <td>0.714286</td>\n",
       "    </tr>\n",
       "    <tr>\n",
       "      <th>footb*</th>\n",
       "      <td>{Sports}</td>\n",
       "      <td>0.0104</td>\n",
       "      <td>0.0004</td>\n",
       "      <td>0.0000</td>\n",
       "      <td>5</td>\n",
       "      <td>0</td>\n",
       "      <td>1.000000</td>\n",
       "    </tr>\n",
       "    <tr>\n",
       "      <th>business</th>\n",
       "      <td>{Business}</td>\n",
       "      <td>0.0208</td>\n",
       "      <td>0.0020</td>\n",
       "      <td>0.0020</td>\n",
       "      <td>5</td>\n",
       "      <td>2</td>\n",
       "      <td>0.714286</td>\n",
       "    </tr>\n",
       "    <tr>\n",
       "      <th>comput*</th>\n",
       "      <td>{Sci/Tech}</td>\n",
       "      <td>0.0272</td>\n",
       "      <td>0.0024</td>\n",
       "      <td>0.0020</td>\n",
       "      <td>6</td>\n",
       "      <td>2</td>\n",
       "      <td>0.750000</td>\n",
       "    </tr>\n",
       "    <tr>\n",
       "      <th>sci*</th>\n",
       "      <td>{Sci/Tech}</td>\n",
       "      <td>0.0192</td>\n",
       "      <td>0.0020</td>\n",
       "      <td>0.0016</td>\n",
       "      <td>10</td>\n",
       "      <td>0</td>\n",
       "      <td>1.000000</td>\n",
       "    </tr>\n",
       "    <tr>\n",
       "      <th>sport*</th>\n",
       "      <td>{Sports}</td>\n",
       "      <td>0.0208</td>\n",
       "      <td>0.0012</td>\n",
       "      <td>0.0008</td>\n",
       "      <td>10</td>\n",
       "      <td>1</td>\n",
       "      <td>0.909091</td>\n",
       "    </tr>\n",
       "    <tr>\n",
       "      <th>gov*</th>\n",
       "      <td>{World}</td>\n",
       "      <td>0.0404</td>\n",
       "      <td>0.0032</td>\n",
       "      <td>0.0024</td>\n",
       "      <td>14</td>\n",
       "      <td>10</td>\n",
       "      <td>0.583333</td>\n",
       "    </tr>\n",
       "    <tr>\n",
       "      <th>total</th>\n",
       "      <td>{World, Sports, Sci/Tech, Business}</td>\n",
       "      <td>0.1480</td>\n",
       "      <td>0.0060</td>\n",
       "      <td>0.0044</td>\n",
       "      <td>55</td>\n",
       "      <td>17</td>\n",
       "      <td>0.763889</td>\n",
       "    </tr>\n",
       "  </tbody>\n",
       "</table>\n",
       "</div>"
      ],
      "text/plain": [
       "                                     polarity  coverage  overlaps  conflicts  \\\n",
       "war                                   {World}    0.0152    0.0008     0.0000   \n",
       "footb*                               {Sports}    0.0104    0.0004     0.0000   \n",
       "business                           {Business}    0.0208    0.0020     0.0020   \n",
       "comput*                            {Sci/Tech}    0.0272    0.0024     0.0020   \n",
       "sci*                               {Sci/Tech}    0.0192    0.0020     0.0016   \n",
       "sport*                               {Sports}    0.0208    0.0012     0.0008   \n",
       "gov*                                  {World}    0.0404    0.0032     0.0024   \n",
       "total     {World, Sports, Sci/Tech, Business}    0.1480    0.0060     0.0044   \n",
       "\n",
       "          correct  incorrect  precision  \n",
       "war             5          2   0.714286  \n",
       "footb*          5          0   1.000000  \n",
       "business        5          2   0.714286  \n",
       "comput*         6          2   0.750000  \n",
       "sci*           10          0   1.000000  \n",
       "sport*         10          1   0.909091  \n",
       "gov*           14         10   0.583333  \n",
       "total          55         17   0.763889  "
      ]
     },
     "execution_count": 348,
     "metadata": {},
     "output_type": "execute_result"
    }
   ],
   "source": [
    "weak_labels.summary()"
   ]
  },
  {
   "cell_type": "code",
   "execution_count": 349,
   "id": "54ac1276-eeba-4c27-9dd4-651d5d5e369f",
   "metadata": {},
   "outputs": [
    {
     "data": {
      "text/plain": [
       "{'accuracy': 0.29}"
      ]
     },
     "execution_count": 349,
     "metadata": {},
     "output_type": "execute_result"
    }
   ],
   "source": [
    "from rubrix.labeling.text_classification import Snorkel\n",
    "\n",
    "# we pass our WeakLabels instance to our Snorkel label model\n",
    "label_model = Snorkel(weak_labels)\n",
    "\n",
    "# we train the model\n",
    "label_model.fit()\n",
    "\n",
    "# we check its performance\n",
    "label_model.score()"
   ]
  },
  {
   "cell_type": "code",
   "execution_count": 410,
   "id": "dbd09ac1-8fc0-4108-8b1a-85d6f4da1437",
   "metadata": {},
   "outputs": [
    {
     "data": {
      "text/plain": [
       "39"
      ]
     },
     "execution_count": 410,
     "metadata": {},
     "output_type": "execute_result"
    }
   ],
   "source": [
    "rules = [\n",
    "    war,\n",
    "    football,\n",
    "    business,\n",
    "    computer,\n",
    "    sci,\n",
    "    sport,\n",
    "    gov\n",
    "]\n",
    "\n",
    "rules.append(Rule(query=\"goal\", label=\"Sports\"))\n",
    "rules.append(Rule(query=\"play*\", label=\"Sports\"))\n",
    "rules.append(Rule(query=\"champion*\", label=\"Sports\"))\n",
    "rules.append(Rule(query=\"game*\", label=\"Sports\"))\n",
    "rules.append(Rule(query=\"olympic*\", label=\"Sports\"))\n",
    "\n",
    "rules.append(Rule(query=\"party\", label=\"World\"))\n",
    "rules.append(Rule(query=\"market\", label=\"World\"))\n",
    "rules.append(Rule(query=\"democ*\", label=\"World\"))\n",
    "rules.append(Rule(query=\"deal\", label=\"World\"))\n",
    "rules.append(Rule(query=\"court\", label=\"World\"))\n",
    "rules.append(Rule(query=\"minist*\", label=\"World\"))\n",
    "rules.append(Rule(query=\"country\", label=\"World\"))\n",
    "rules.append(Rule(query=\"iraq\", label=\"World\"))\n",
    "rules.append(Rule(query=\"offici*\", label=\"World\"))\n",
    "\n",
    "rules.append(Rule(query=\"price*\", label=\"Business\"))\n",
    "rules.append(Rule(query=\"financ*\", label=\"Business\"))\n",
    "rules.append(Rule(query=\"econom*\", label=\"Business\"))\n",
    "rules.append(Rule(query=\"company\", label=\"Business\"))\n",
    "rules.append(Rule(query=\"million*\", label=\"Business\"))\n",
    "rules.append(Rule(query=\"trade\", label=\"Business\"))\n",
    "rules.append(Rule(query=\"oil\", label=\"Business\"))\n",
    "rules.append(Rule(query=\"mone*\", label=\"Business\"))\n",
    "rules.append(Rule(query=\"market*\", label=\"Business\"))\n",
    "rules.append(Rule(query=\"stock\", label=\"Business\"))\n",
    "rules.append(Rule(query=\"corp*\", label=\"Business\"))\n",
    "\n",
    "\n",
    "rules.append(Rule(query=\"internet\", label=\"Sci/Tech\"))\n",
    "rules.append(Rule(query=\"web\", label=\"Sci/Tech\"))\n",
    "rules.append(Rule(query=\"users\", label=\"Sci/Tech\"))\n",
    "rules.append(Rule(query=\"telep*\", label=\"Sci/Tech\"))\n",
    "rules.append(Rule(query=\"tech*\", label=\"Sci/Tech\"))\n",
    "rules.append(Rule(query=\"Microsoft\", label=\"Sci/Tech\"))\n",
    "rules.append(Rule(query=\"software\", label=\"Sci/Tech\"))\n",
    "#rules.append(Rule(query=\"motors\", label=\"Sci/Tech\"))\n",
    "len(rules)"
   ]
  },
  {
   "cell_type": "markdown",
   "id": "13b03dd2-a948-40d1-adaf-06a0e5083517",
   "metadata": {},
   "source": [
    "## Using a list of country names"
   ]
  },
  {
   "cell_type": "code",
   "execution_count": 394,
   "id": "5487d834-0de2-46ff-a1ac-cee32f248a74",
   "metadata": {},
   "outputs": [],
   "source": [
    "import pandas as pd\n",
    "\n",
    "country_list = pd.read_csv(\"https://pkgstore.datahub.io/core/country-list/data_csv/data/d7c9d7cfb42cb69f4422dec222dbbaa8/data_csv.csv\")"
   ]
  },
  {
   "cell_type": "code",
   "execution_count": 395,
   "id": "4fe332a4-b269-4c0b-8b89-15dd85a4059b",
   "metadata": {},
   "outputs": [],
   "source": [
    "rules_country = []\n",
    "for country in country_list.Name.values:\n",
    "    rules_country.append(Rule(query=f\"{country}\", label=\"World\"))"
   ]
  },
  {
   "cell_type": "code",
   "execution_count": 396,
   "id": "4d487d04-b7ea-41f2-af0e-537026bb2d63",
   "metadata": {},
   "outputs": [
    {
     "data": {
      "text/plain": [
       "288"
      ]
     },
     "execution_count": 396,
     "metadata": {},
     "output_type": "execute_result"
    }
   ],
   "source": [
    "rules.extend(rules_country) ; len(rules)"
   ]
  },
  {
   "cell_type": "markdown",
   "id": "e6d2eb1e-39f1-4c87-93c0-64245ca40b6f",
   "metadata": {},
   "source": [
    "## Using a sport names list"
   ]
  },
  {
   "cell_type": "code",
   "execution_count": 397,
   "id": "b0d19528-65e4-4a24-a1ed-407b2b3676ed",
   "metadata": {},
   "outputs": [],
   "source": [
    "sport_list = pd.read_csv(\"https://github.com/ali-ce/datasets/raw/master/Most-paid-athletes/Athletes.csv\")"
   ]
  },
  {
   "cell_type": "code",
   "execution_count": 398,
   "id": "69a26e90-08c7-40a3-a5f9-a69bc4d101a3",
   "metadata": {},
   "outputs": [],
   "source": [
    "sport_list = sport_list.Sport.unique()"
   ]
  },
  {
   "cell_type": "code",
   "execution_count": 399,
   "id": "0cc35251-8b05-41f6-a215-d7d244c30049",
   "metadata": {},
   "outputs": [],
   "source": [
    "sport_rules = []\n",
    "for name in sport_list:\n",
    "    sport_rules.append(Rule(query=f\"{name}\", label=\"Sports\"))"
   ]
  },
  {
   "cell_type": "code",
   "execution_count": 400,
   "id": "318e32a7-ee2f-44bb-944c-26a68173110b",
   "metadata": {},
   "outputs": [
    {
     "data": {
      "text/plain": [
       "298"
      ]
     },
     "execution_count": 400,
     "metadata": {},
     "output_type": "execute_result"
    }
   ],
   "source": [
    "rules.extend(sport_rules) ; len(rules)"
   ]
  },
  {
   "cell_type": "code",
   "execution_count": 411,
   "id": "994d5fa5-4cb5-450b-857d-e81848a06006",
   "metadata": {},
   "outputs": [
    {
     "data": {
      "application/vnd.jupyter.widget-view+json": {
       "model_id": "549821054d124602828bf163868091f3",
       "version_major": 2,
       "version_minor": 0
      },
      "text/plain": [
       "Preparing rules:   0%|          | 0/39 [00:00<?, ?it/s]"
      ]
     },
     "metadata": {},
     "output_type": "display_data"
    },
    {
     "data": {
      "application/vnd.jupyter.widget-view+json": {
       "model_id": "9a5170a39772483b9e67cb255d2deaa9",
       "version_major": 2,
       "version_minor": 0
      },
      "text/plain": [
       "Applying rules:   0%|          | 0/2500 [00:00<?, ?it/s]"
      ]
     },
     "metadata": {},
     "output_type": "display_data"
    }
   ],
   "source": [
    "weak_labels = WeakLabels(rules=rules, dataset=\"zeroshot_agnews\")"
   ]
  },
  {
   "cell_type": "code",
   "execution_count": 412,
   "id": "e9a8f439-c77f-4518-842e-04bf351f9a98",
   "metadata": {},
   "outputs": [
    {
     "data": {
      "text/html": [
       "<div>\n",
       "<style scoped>\n",
       "    .dataframe tbody tr th:only-of-type {\n",
       "        vertical-align: middle;\n",
       "    }\n",
       "\n",
       "    .dataframe tbody tr th {\n",
       "        vertical-align: top;\n",
       "    }\n",
       "\n",
       "    .dataframe thead th {\n",
       "        text-align: right;\n",
       "    }\n",
       "</style>\n",
       "<table border=\"1\" class=\"dataframe\">\n",
       "  <thead>\n",
       "    <tr style=\"text-align: right;\">\n",
       "      <th></th>\n",
       "      <th>polarity</th>\n",
       "      <th>coverage</th>\n",
       "      <th>overlaps</th>\n",
       "      <th>conflicts</th>\n",
       "      <th>correct</th>\n",
       "      <th>incorrect</th>\n",
       "      <th>precision</th>\n",
       "    </tr>\n",
       "  </thead>\n",
       "  <tbody>\n",
       "    <tr>\n",
       "      <th>war</th>\n",
       "      <td>{World}</td>\n",
       "      <td>0.0152</td>\n",
       "      <td>0.0104</td>\n",
       "      <td>0.0020</td>\n",
       "      <td>5</td>\n",
       "      <td>2</td>\n",
       "      <td>0.714286</td>\n",
       "    </tr>\n",
       "    <tr>\n",
       "      <th>footb*</th>\n",
       "      <td>{Sports}</td>\n",
       "      <td>0.0104</td>\n",
       "      <td>0.0064</td>\n",
       "      <td>0.0008</td>\n",
       "      <td>5</td>\n",
       "      <td>0</td>\n",
       "      <td>1.000000</td>\n",
       "    </tr>\n",
       "    <tr>\n",
       "      <th>business</th>\n",
       "      <td>{Business}</td>\n",
       "      <td>0.0208</td>\n",
       "      <td>0.0144</td>\n",
       "      <td>0.0104</td>\n",
       "      <td>5</td>\n",
       "      <td>2</td>\n",
       "      <td>0.714286</td>\n",
       "    </tr>\n",
       "    <tr>\n",
       "      <th>comput*</th>\n",
       "      <td>{Sci/Tech}</td>\n",
       "      <td>0.0272</td>\n",
       "      <td>0.0196</td>\n",
       "      <td>0.0136</td>\n",
       "      <td>6</td>\n",
       "      <td>2</td>\n",
       "      <td>0.750000</td>\n",
       "    </tr>\n",
       "    <tr>\n",
       "      <th>sci*</th>\n",
       "      <td>{Sci/Tech}</td>\n",
       "      <td>0.0192</td>\n",
       "      <td>0.0100</td>\n",
       "      <td>0.0076</td>\n",
       "      <td>10</td>\n",
       "      <td>0</td>\n",
       "      <td>1.000000</td>\n",
       "    </tr>\n",
       "    <tr>\n",
       "      <th>sport*</th>\n",
       "      <td>{Sports}</td>\n",
       "      <td>0.0208</td>\n",
       "      <td>0.0136</td>\n",
       "      <td>0.0048</td>\n",
       "      <td>10</td>\n",
       "      <td>1</td>\n",
       "      <td>0.909091</td>\n",
       "    </tr>\n",
       "    <tr>\n",
       "      <th>gov*</th>\n",
       "      <td>{World}</td>\n",
       "      <td>0.0404</td>\n",
       "      <td>0.0296</td>\n",
       "      <td>0.0204</td>\n",
       "      <td>14</td>\n",
       "      <td>10</td>\n",
       "      <td>0.583333</td>\n",
       "    </tr>\n",
       "    <tr>\n",
       "      <th>goal</th>\n",
       "      <td>{Sports}</td>\n",
       "      <td>0.0044</td>\n",
       "      <td>0.0032</td>\n",
       "      <td>0.0004</td>\n",
       "      <td>2</td>\n",
       "      <td>0</td>\n",
       "      <td>1.000000</td>\n",
       "    </tr>\n",
       "    <tr>\n",
       "      <th>play*</th>\n",
       "      <td>{Sports}</td>\n",
       "      <td>0.0488</td>\n",
       "      <td>0.0304</td>\n",
       "      <td>0.0164</td>\n",
       "      <td>11</td>\n",
       "      <td>4</td>\n",
       "      <td>0.733333</td>\n",
       "    </tr>\n",
       "    <tr>\n",
       "      <th>champion*</th>\n",
       "      <td>{Sports}</td>\n",
       "      <td>0.0316</td>\n",
       "      <td>0.0176</td>\n",
       "      <td>0.0040</td>\n",
       "      <td>11</td>\n",
       "      <td>2</td>\n",
       "      <td>0.846154</td>\n",
       "    </tr>\n",
       "    <tr>\n",
       "      <th>game*</th>\n",
       "      <td>{Sports}</td>\n",
       "      <td>0.0472</td>\n",
       "      <td>0.0276</td>\n",
       "      <td>0.0056</td>\n",
       "      <td>29</td>\n",
       "      <td>5</td>\n",
       "      <td>0.852941</td>\n",
       "    </tr>\n",
       "    <tr>\n",
       "      <th>olympic*</th>\n",
       "      <td>{Sports}</td>\n",
       "      <td>0.0412</td>\n",
       "      <td>0.0204</td>\n",
       "      <td>0.0036</td>\n",
       "      <td>49</td>\n",
       "      <td>5</td>\n",
       "      <td>0.907407</td>\n",
       "    </tr>\n",
       "    <tr>\n",
       "      <th>party</th>\n",
       "      <td>{World}</td>\n",
       "      <td>0.0092</td>\n",
       "      <td>0.0036</td>\n",
       "      <td>0.0008</td>\n",
       "      <td>3</td>\n",
       "      <td>0</td>\n",
       "      <td>1.000000</td>\n",
       "    </tr>\n",
       "    <tr>\n",
       "      <th>market</th>\n",
       "      <td>{World}</td>\n",
       "      <td>0.0276</td>\n",
       "      <td>0.0276</td>\n",
       "      <td>0.0276</td>\n",
       "      <td>1</td>\n",
       "      <td>12</td>\n",
       "      <td>0.076923</td>\n",
       "    </tr>\n",
       "    <tr>\n",
       "      <th>democ*</th>\n",
       "      <td>{World}</td>\n",
       "      <td>0.0128</td>\n",
       "      <td>0.0068</td>\n",
       "      <td>0.0032</td>\n",
       "      <td>6</td>\n",
       "      <td>1</td>\n",
       "      <td>0.857143</td>\n",
       "    </tr>\n",
       "    <tr>\n",
       "      <th>deal</th>\n",
       "      <td>{World}</td>\n",
       "      <td>0.0256</td>\n",
       "      <td>0.0164</td>\n",
       "      <td>0.0136</td>\n",
       "      <td>1</td>\n",
       "      <td>15</td>\n",
       "      <td>0.062500</td>\n",
       "    </tr>\n",
       "    <tr>\n",
       "      <th>court</th>\n",
       "      <td>{World}</td>\n",
       "      <td>0.0252</td>\n",
       "      <td>0.0160</td>\n",
       "      <td>0.0116</td>\n",
       "      <td>3</td>\n",
       "      <td>6</td>\n",
       "      <td>0.333333</td>\n",
       "    </tr>\n",
       "    <tr>\n",
       "      <th>minist*</th>\n",
       "      <td>{World}</td>\n",
       "      <td>0.0300</td>\n",
       "      <td>0.0164</td>\n",
       "      <td>0.0072</td>\n",
       "      <td>7</td>\n",
       "      <td>1</td>\n",
       "      <td>0.875000</td>\n",
       "    </tr>\n",
       "    <tr>\n",
       "      <th>country</th>\n",
       "      <td>{World}</td>\n",
       "      <td>0.0220</td>\n",
       "      <td>0.0176</td>\n",
       "      <td>0.0092</td>\n",
       "      <td>7</td>\n",
       "      <td>6</td>\n",
       "      <td>0.538462</td>\n",
       "    </tr>\n",
       "    <tr>\n",
       "      <th>iraq</th>\n",
       "      <td>{World}</td>\n",
       "      <td>0.0388</td>\n",
       "      <td>0.0232</td>\n",
       "      <td>0.0096</td>\n",
       "      <td>11</td>\n",
       "      <td>6</td>\n",
       "      <td>0.647059</td>\n",
       "    </tr>\n",
       "    <tr>\n",
       "      <th>offici*</th>\n",
       "      <td>{World}</td>\n",
       "      <td>0.0428</td>\n",
       "      <td>0.0228</td>\n",
       "      <td>0.0144</td>\n",
       "      <td>11</td>\n",
       "      <td>13</td>\n",
       "      <td>0.458333</td>\n",
       "    </tr>\n",
       "    <tr>\n",
       "      <th>price*</th>\n",
       "      <td>{Business}</td>\n",
       "      <td>0.0448</td>\n",
       "      <td>0.0404</td>\n",
       "      <td>0.0208</td>\n",
       "      <td>25</td>\n",
       "      <td>11</td>\n",
       "      <td>0.694444</td>\n",
       "    </tr>\n",
       "    <tr>\n",
       "      <th>financ*</th>\n",
       "      <td>{Business}</td>\n",
       "      <td>0.0180</td>\n",
       "      <td>0.0124</td>\n",
       "      <td>0.0100</td>\n",
       "      <td>2</td>\n",
       "      <td>3</td>\n",
       "      <td>0.400000</td>\n",
       "    </tr>\n",
       "    <tr>\n",
       "      <th>econom*</th>\n",
       "      <td>{Business}</td>\n",
       "      <td>0.0236</td>\n",
       "      <td>0.0164</td>\n",
       "      <td>0.0116</td>\n",
       "      <td>10</td>\n",
       "      <td>1</td>\n",
       "      <td>0.909091</td>\n",
       "    </tr>\n",
       "    <tr>\n",
       "      <th>company</th>\n",
       "      <td>{Business}</td>\n",
       "      <td>0.0572</td>\n",
       "      <td>0.0416</td>\n",
       "      <td>0.0300</td>\n",
       "      <td>9</td>\n",
       "      <td>12</td>\n",
       "      <td>0.428571</td>\n",
       "    </tr>\n",
       "    <tr>\n",
       "      <th>million*</th>\n",
       "      <td>{Business}</td>\n",
       "      <td>0.0368</td>\n",
       "      <td>0.0252</td>\n",
       "      <td>0.0192</td>\n",
       "      <td>6</td>\n",
       "      <td>15</td>\n",
       "      <td>0.285714</td>\n",
       "    </tr>\n",
       "    <tr>\n",
       "      <th>trade</th>\n",
       "      <td>{Business}</td>\n",
       "      <td>0.0156</td>\n",
       "      <td>0.0092</td>\n",
       "      <td>0.0068</td>\n",
       "      <td>2</td>\n",
       "      <td>3</td>\n",
       "      <td>0.400000</td>\n",
       "    </tr>\n",
       "    <tr>\n",
       "      <th>oil</th>\n",
       "      <td>{Business}</td>\n",
       "      <td>0.0380</td>\n",
       "      <td>0.0336</td>\n",
       "      <td>0.0172</td>\n",
       "      <td>22</td>\n",
       "      <td>5</td>\n",
       "      <td>0.814815</td>\n",
       "    </tr>\n",
       "    <tr>\n",
       "      <th>mone*</th>\n",
       "      <td>{Business}</td>\n",
       "      <td>0.0084</td>\n",
       "      <td>0.0060</td>\n",
       "      <td>0.0040</td>\n",
       "      <td>1</td>\n",
       "      <td>0</td>\n",
       "      <td>1.000000</td>\n",
       "    </tr>\n",
       "    <tr>\n",
       "      <th>market*</th>\n",
       "      <td>{Business}</td>\n",
       "      <td>0.0356</td>\n",
       "      <td>0.0308</td>\n",
       "      <td>0.0300</td>\n",
       "      <td>9</td>\n",
       "      <td>8</td>\n",
       "      <td>0.529412</td>\n",
       "    </tr>\n",
       "    <tr>\n",
       "      <th>stock</th>\n",
       "      <td>{Business}</td>\n",
       "      <td>0.0152</td>\n",
       "      <td>0.0128</td>\n",
       "      <td>0.0072</td>\n",
       "      <td>7</td>\n",
       "      <td>5</td>\n",
       "      <td>0.583333</td>\n",
       "    </tr>\n",
       "    <tr>\n",
       "      <th>corp*</th>\n",
       "      <td>{Business}</td>\n",
       "      <td>0.0436</td>\n",
       "      <td>0.0340</td>\n",
       "      <td>0.0248</td>\n",
       "      <td>11</td>\n",
       "      <td>9</td>\n",
       "      <td>0.550000</td>\n",
       "    </tr>\n",
       "    <tr>\n",
       "      <th>internet</th>\n",
       "      <td>{Sci/Tech}</td>\n",
       "      <td>0.0292</td>\n",
       "      <td>0.0200</td>\n",
       "      <td>0.0120</td>\n",
       "      <td>13</td>\n",
       "      <td>1</td>\n",
       "      <td>0.928571</td>\n",
       "    </tr>\n",
       "    <tr>\n",
       "      <th>web</th>\n",
       "      <td>{Sci/Tech}</td>\n",
       "      <td>0.0124</td>\n",
       "      <td>0.0104</td>\n",
       "      <td>0.0096</td>\n",
       "      <td>1</td>\n",
       "      <td>2</td>\n",
       "      <td>0.333333</td>\n",
       "    </tr>\n",
       "    <tr>\n",
       "      <th>users</th>\n",
       "      <td>{Sci/Tech}</td>\n",
       "      <td>0.0112</td>\n",
       "      <td>0.0084</td>\n",
       "      <td>0.0028</td>\n",
       "      <td>10</td>\n",
       "      <td>0</td>\n",
       "      <td>1.000000</td>\n",
       "    </tr>\n",
       "    <tr>\n",
       "      <th>telep*</th>\n",
       "      <td>{Sci/Tech}</td>\n",
       "      <td>0.0048</td>\n",
       "      <td>0.0040</td>\n",
       "      <td>0.0020</td>\n",
       "      <td>1</td>\n",
       "      <td>0</td>\n",
       "      <td>1.000000</td>\n",
       "    </tr>\n",
       "    <tr>\n",
       "      <th>tech*</th>\n",
       "      <td>{Sci/Tech}</td>\n",
       "      <td>0.0388</td>\n",
       "      <td>0.0260</td>\n",
       "      <td>0.0168</td>\n",
       "      <td>10</td>\n",
       "      <td>0</td>\n",
       "      <td>1.000000</td>\n",
       "    </tr>\n",
       "    <tr>\n",
       "      <th>Microsoft</th>\n",
       "      <td>{Sci/Tech}</td>\n",
       "      <td>0.0280</td>\n",
       "      <td>0.0200</td>\n",
       "      <td>0.0156</td>\n",
       "      <td>5</td>\n",
       "      <td>0</td>\n",
       "      <td>1.000000</td>\n",
       "    </tr>\n",
       "    <tr>\n",
       "      <th>software</th>\n",
       "      <td>{Sci/Tech}</td>\n",
       "      <td>0.0272</td>\n",
       "      <td>0.0220</td>\n",
       "      <td>0.0152</td>\n",
       "      <td>8</td>\n",
       "      <td>0</td>\n",
       "      <td>1.000000</td>\n",
       "    </tr>\n",
       "    <tr>\n",
       "      <th>total</th>\n",
       "      <td>{World, Sports, Sci/Tech, Business}</td>\n",
       "      <td>0.6120</td>\n",
       "      <td>0.2892</td>\n",
       "      <td>0.1624</td>\n",
       "      <td>359</td>\n",
       "      <td>168</td>\n",
       "      <td>0.681214</td>\n",
       "    </tr>\n",
       "  </tbody>\n",
       "</table>\n",
       "</div>"
      ],
      "text/plain": [
       "                                      polarity  coverage  overlaps  conflicts  \\\n",
       "war                                    {World}    0.0152    0.0104     0.0020   \n",
       "footb*                                {Sports}    0.0104    0.0064     0.0008   \n",
       "business                            {Business}    0.0208    0.0144     0.0104   \n",
       "comput*                             {Sci/Tech}    0.0272    0.0196     0.0136   \n",
       "sci*                                {Sci/Tech}    0.0192    0.0100     0.0076   \n",
       "sport*                                {Sports}    0.0208    0.0136     0.0048   \n",
       "gov*                                   {World}    0.0404    0.0296     0.0204   \n",
       "goal                                  {Sports}    0.0044    0.0032     0.0004   \n",
       "play*                                 {Sports}    0.0488    0.0304     0.0164   \n",
       "champion*                             {Sports}    0.0316    0.0176     0.0040   \n",
       "game*                                 {Sports}    0.0472    0.0276     0.0056   \n",
       "olympic*                              {Sports}    0.0412    0.0204     0.0036   \n",
       "party                                  {World}    0.0092    0.0036     0.0008   \n",
       "market                                 {World}    0.0276    0.0276     0.0276   \n",
       "democ*                                 {World}    0.0128    0.0068     0.0032   \n",
       "deal                                   {World}    0.0256    0.0164     0.0136   \n",
       "court                                  {World}    0.0252    0.0160     0.0116   \n",
       "minist*                                {World}    0.0300    0.0164     0.0072   \n",
       "country                                {World}    0.0220    0.0176     0.0092   \n",
       "iraq                                   {World}    0.0388    0.0232     0.0096   \n",
       "offici*                                {World}    0.0428    0.0228     0.0144   \n",
       "price*                              {Business}    0.0448    0.0404     0.0208   \n",
       "financ*                             {Business}    0.0180    0.0124     0.0100   \n",
       "econom*                             {Business}    0.0236    0.0164     0.0116   \n",
       "company                             {Business}    0.0572    0.0416     0.0300   \n",
       "million*                            {Business}    0.0368    0.0252     0.0192   \n",
       "trade                               {Business}    0.0156    0.0092     0.0068   \n",
       "oil                                 {Business}    0.0380    0.0336     0.0172   \n",
       "mone*                               {Business}    0.0084    0.0060     0.0040   \n",
       "market*                             {Business}    0.0356    0.0308     0.0300   \n",
       "stock                               {Business}    0.0152    0.0128     0.0072   \n",
       "corp*                               {Business}    0.0436    0.0340     0.0248   \n",
       "internet                            {Sci/Tech}    0.0292    0.0200     0.0120   \n",
       "web                                 {Sci/Tech}    0.0124    0.0104     0.0096   \n",
       "users                               {Sci/Tech}    0.0112    0.0084     0.0028   \n",
       "telep*                              {Sci/Tech}    0.0048    0.0040     0.0020   \n",
       "tech*                               {Sci/Tech}    0.0388    0.0260     0.0168   \n",
       "Microsoft                           {Sci/Tech}    0.0280    0.0200     0.0156   \n",
       "software                            {Sci/Tech}    0.0272    0.0220     0.0152   \n",
       "total      {World, Sports, Sci/Tech, Business}    0.6120    0.2892     0.1624   \n",
       "\n",
       "           correct  incorrect  precision  \n",
       "war              5          2   0.714286  \n",
       "footb*           5          0   1.000000  \n",
       "business         5          2   0.714286  \n",
       "comput*          6          2   0.750000  \n",
       "sci*            10          0   1.000000  \n",
       "sport*          10          1   0.909091  \n",
       "gov*            14         10   0.583333  \n",
       "goal             2          0   1.000000  \n",
       "play*           11          4   0.733333  \n",
       "champion*       11          2   0.846154  \n",
       "game*           29          5   0.852941  \n",
       "olympic*        49          5   0.907407  \n",
       "party            3          0   1.000000  \n",
       "market           1         12   0.076923  \n",
       "democ*           6          1   0.857143  \n",
       "deal             1         15   0.062500  \n",
       "court            3          6   0.333333  \n",
       "minist*          7          1   0.875000  \n",
       "country          7          6   0.538462  \n",
       "iraq            11          6   0.647059  \n",
       "offici*         11         13   0.458333  \n",
       "price*          25         11   0.694444  \n",
       "financ*          2          3   0.400000  \n",
       "econom*         10          1   0.909091  \n",
       "company          9         12   0.428571  \n",
       "million*         6         15   0.285714  \n",
       "trade            2          3   0.400000  \n",
       "oil             22          5   0.814815  \n",
       "mone*            1          0   1.000000  \n",
       "market*          9          8   0.529412  \n",
       "stock            7          5   0.583333  \n",
       "corp*           11          9   0.550000  \n",
       "internet        13          1   0.928571  \n",
       "web              1          2   0.333333  \n",
       "users           10          0   1.000000  \n",
       "telep*           1          0   1.000000  \n",
       "tech*           10          0   1.000000  \n",
       "Microsoft        5          0   1.000000  \n",
       "software         8          0   1.000000  \n",
       "total          359        168   0.681214  "
      ]
     },
     "execution_count": 412,
     "metadata": {},
     "output_type": "execute_result"
    }
   ],
   "source": [
    "weak_labels.summary()"
   ]
  },
  {
   "cell_type": "code",
   "execution_count": 408,
   "id": "1cb66b38-30aa-48b7-901d-c9c0faad2fd2",
   "metadata": {},
   "outputs": [
    {
     "data": {
      "text/plain": [
       "{'accuracy': 0.364}"
      ]
     },
     "execution_count": 408,
     "metadata": {},
     "output_type": "execute_result"
    }
   ],
   "source": [
    "# we pass our WeakLabels instance to our Snorkel label model\n",
    "label_model = Snorkel(weak_labels)\n",
    "\n",
    "# we train the model\n",
    "label_model.fit()\n",
    "\n",
    "# we check its performance\n",
    "label_model.score()"
   ]
  },
  {
   "cell_type": "code",
   "execution_count": 413,
   "id": "bb8830a2-05fa-4fb5-9163-12ee69c5aa14",
   "metadata": {},
   "outputs": [
    {
     "name": "stderr",
     "output_type": "stream",
     "text": [
      "WARNING:root:Metrics calculated over data points with non-abstain labels only\n"
     ]
    },
    {
     "data": {
      "text/plain": [
       "{'accuracy': 0.7275641025641025}"
      ]
     },
     "execution_count": 413,
     "metadata": {},
     "output_type": "execute_result"
    }
   ],
   "source": [
    "from snorkel.labeling.model import LabelModel\n",
    "\n",
    "# train our label model\n",
    "label_model = LabelModel(cardinality=4)\n",
    "label_model.fit(L_train=weak_labels.matrix(has_annotation=False))\n",
    "\n",
    "# check its performance\n",
    "label_model.score(\n",
    "    L=weak_labels.matrix(has_annotation=True), \n",
    "    Y=weak_labels.annotation()\n",
    ")"
   ]
  },
  {
   "cell_type": "code",
   "execution_count": 404,
   "id": "972b7b72-9ef6-4874-91ac-ee308e876335",
   "metadata": {},
   "outputs": [
    {
     "data": {
      "application/vnd.jupyter.widget-view+json": {
       "model_id": "8bd08611988948bcb1793d7ce3e03ae2",
       "version_major": 2,
       "version_minor": 0
      },
      "text/plain": [
       "  0%|          | 0/2000 [00:00<?, ?it/s]"
      ]
     },
     "metadata": {},
     "output_type": "display_data"
    },
    {
     "name": "stdout",
     "output_type": "stream",
     "text": [
      "2000 records logged to http://localhost:6900/snorkel_results\n"
     ]
    },
    {
     "data": {
      "text/plain": [
       "BulkResponse(dataset='snorkel_results', processed=2000, failed=0)"
      ]
     },
     "execution_count": 404,
     "metadata": {},
     "output_type": "execute_result"
    }
   ],
   "source": [
    "# get your training records with the predictions of the label model\n",
    "records_for_training = label_model.predict()\n",
    "\n",
    "# log the records to a new dataset in Rubrix\n",
    "rb.log(records_for_training, name=\"snorkel_results\")"
   ]
  },
  {
   "cell_type": "markdown",
   "id": "4d810272-f704-409a-96f8-17bf3fe30dbb",
   "metadata": {},
   "source": [
    "## Using a pre-trained model"
   ]
  },
  {
   "cell_type": "code",
   "execution_count": null,
   "id": "3fe1b457-1fdf-48a1-b69f-b996ca3a9106",
   "metadata": {},
   "outputs": [],
   "source": [
    "nlp = pipeline(\n",
    "    \"zero-shot-classification\",\n",
    "    model=\"typeform/mobilebert-uncased-mnli\",\n",
    "    truncation=True,\n",
    "    padding=True\n",
    ")\n",
    "\n",
    "def zeroshot(record: rb.TextClassificationRecord):\n",
    "    prediction = nlp(record.inputs[\"text\"], candidate_labels=labels)\n",
    "    return prediction[\"labels\"][0]\n",
    "    #if prediction[\"scores\"][0] >=0.7:\n",
    "rules.append(zeroshot)"
   ]
  }
 ],
 "metadata": {
  "kernelspec": {
   "display_name": "Python 3",
   "language": "python",
   "name": "python3"
  },
  "language_info": {
   "codemirror_mode": {
    "name": "ipython",
    "version": 3
   },
   "file_extension": ".py",
   "mimetype": "text/x-python",
   "name": "python",
   "nbconvert_exporter": "python",
   "pygments_lexer": "ipython3",
   "version": "3.8.5"
  }
 },
 "nbformat": 4,
 "nbformat_minor": 5
}
